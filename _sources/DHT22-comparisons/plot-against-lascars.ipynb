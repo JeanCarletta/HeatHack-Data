{
 "cells": [
  {
   "cell_type": "code",
   "execution_count": null,
   "metadata": {},
   "outputs": [],
   "source": [
    "# old code for plotting lascars against Thingspeak\n",
    "\n",
    "could be useful"
   ]
  },
  {
   "cell_type": "code",
   "execution_count": null,
   "metadata": {},
   "outputs": [],
   "source": [
    "# Using plotly.express\n",
    "import plotly.express as px\n",
    "import plotly.graph_objects as go\n",
    "\n",
    "import pandas as pd\n",
    "dfthingspeak = pd.read_csv(\"thingspeak-feed.csv\")\n",
    "dfthingspeak[\"timestamp\"] = pd.to_datetime(dfthingspeak['created_at'])\n",
    "\n",
    "dflascar = pd.read_csv(\"lascar-data.csv\")\n",
    "dflascar['timestamp'] = pd.to_datetime(dflascar['Time'])\n",
    "\n",
    "# fig = px.line(dfthingspeak, x='timestamp', y='field2', range_x=['2021-11-21','2022-04-07'],range_y=[35,85], title=\"Comparing RH as measured by different devices\")\n",
    "fig = px.line(dfthingspeak, x='timestamp', range_x=['2021-11-21','2022-04-07'],range_y=[0,100], title=\"Comparing RH in a worship space as measured by different devices side by side\")\n",
    "fig.add_scatter(x = dfthingspeak['timestamp'], y = dfthingspeak['field2'], name = 'thingspeak')\n",
    "fig.add_scatter(x = dflascar['timestamp'], y = dflascar['RH'], name = 'lascar')\n",
    "\n",
    "\n",
    "fig.show()"
   ]
  }
 ],
 "metadata": {
  "language_info": {
   "name": "python"
  },
  "orig_nbformat": 4
 },
 "nbformat": 4,
 "nbformat_minor": 2
}
