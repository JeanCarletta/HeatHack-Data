{
 "cells": [
  {
   "attachments": {},
   "cell_type": "markdown",
   "metadata": {},
   "source": [
    "# Venue 1\n"
   ]
  },
  {
   "cell_type": "code",
   "execution_count": null,
   "metadata": {
    "tags": [
     "hide-cell"
    ],
    "vscode": {
     "languageId": "python"
    }
   },
   "outputs": [],
   "source": [
    "## Model for our script to generate.  We will get passed the bare venue number.\n",
    "import heathack\n",
    "\n",
    "# This needs to be filled in by the generating script\n",
    "venueNumber = \"1\"\n",
    "\n",
    "#This is just a constant\n",
    "venueKeysFile = \"venue-keys.csv\"\n",
    "\n",
    "venueDict = heathack.loadVenueDict(venueKeysFile)[venueNumber]\n",
    "#print(venueDict)\n",
    "\n",
    "# load the data files for this venueNumber and by side effect\n",
    "# add the corresponding df for each file to the venueDict\n",
    "venueDict = heathack.loadDataFiles(venueDict) \n",
    "venueDict = heathack.initialiseTraceDict(venueDict)\n",
    "venueDict = heathack.addTraces(venueDict,\"temperature\")\n",
    "venueDict = heathack.addTraces(venueDict,\"rh\")\n",
    "temperature_fig,rh_fig = heathack.createVenueFigs(venueDict)\n"
   ]
  },
  {
   "cell_type": "code",
   "execution_count": null,
   "metadata": {
    "vscode": {
     "languageId": "python"
    }
   },
   "outputs": [],
   "source": [
    "temperature_fig.show()\n",
    "rh_fig.show()\n"
   ]
  }
 ],
 "metadata": {
  "kernelspec": {
   "display_name": "Python 3 (ipykernel)",
   "language": "python",
   "name": "python3"
  },
  "orig_nbformat": 4
 },
 "nbformat": 4,
 "nbformat_minor": 2
}
