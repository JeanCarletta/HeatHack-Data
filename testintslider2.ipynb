{
 "cells": [
  {
   "cell_type": "code",
   "execution_count": 1,
   "metadata": {},
   "outputs": [
    {
     "data": {
      "application/vnd.jupyter.widget-view+json": {
       "model_id": "8b8cec8c86334704bfae3aef76e6bb55",
       "version_major": 2,
       "version_minor": 0
      },
      "text/plain": [
       "Text(value='')"
      ]
     },
     "metadata": {},
     "output_type": "display_data"
    },
    {
     "data": {
      "application/vnd.jupyter.widget-view+json": {
       "model_id": "95cff90299ff4d98bf410f9e3dc9d73e",
       "version_major": 2,
       "version_minor": 0
      },
      "text/plain": [
       "interactive(children=(IntSlider(value=10, description='x', max=30, min=-10), Output()), _dom_classes=('widget-…"
      ]
     },
     "metadata": {},
     "output_type": "display_data"
    }
   ],
   "source": [
    "from ipywidgets import widgets\n",
    "from ipywidgets import interactive\n",
    "\n",
    "from IPython.display import display\n",
    "\n",
    "out = widgets.Text()\n",
    "# out.value = \"test\" ## this works\n",
    "\n",
    "display(out)\n",
    "\n",
    "# f(x) should get called every time I move the intslider, but it just\n",
    "# gets called when the widget is created.\n",
    "def f(x):\n",
    "    venue_id = x\n",
    "    out.value= str(w.kwargs)\n",
    "    display(str(w.kwargs))\n",
    "    #out.value = str(x)\n",
    "    return x\n",
    "\n",
    "#interact(f, x=10);\n",
    "\n",
    "#interact(f, x='Hi there!');\n",
    "\n",
    "# @interact(x=True, y=1.0)\n",
    "# def g(x, y):\n",
    "#     return (x, y)\n",
    "\n",
    "w = interactive(f, x=widgets.IntSlider(min=-10,max=30,step=1,value=10, continuous_update=True))\n",
    "\n",
    "display(w)\n",
    "\n"
   ]
  },
  {
   "cell_type": "code",
   "execution_count": null,
   "metadata": {},
   "outputs": [],
   "source": []
  }
 ],
 "metadata": {
  "kernelspec": {
   "display_name": "Python 3 (ipykernel)",
   "language": "python",
   "name": "python3"
  },
  "language_info": {
   "codemirror_mode": {
    "name": "ipython",
    "version": 3
   },
   "file_extension": ".py",
   "mimetype": "text/x-python",
   "name": "python",
   "nbconvert_exporter": "python",
   "pygments_lexer": "ipython3",
   "version": "3.8.10"
  }
 },
 "nbformat": 4,
 "nbformat_minor": 2
}
