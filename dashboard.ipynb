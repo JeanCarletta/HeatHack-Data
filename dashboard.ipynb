{
 "cells": [
  {
   "attachments": {},
   "cell_type": "markdown",
   "metadata": {},
   "source": [
    "# Dashboard\n",
    "\n",
    "This shows summary data for all feeds in the current year (running August to July)."
   ]
  },
  {
   "cell_type": "code",
   "execution_count": null,
   "metadata": {
    "tags": [
     "remove-cell"
    ]
   },
   "outputs": [],
   "source": [
    "\n",
    "# Imports \n",
    "\n",
    "# EDIT THIS EVERY YEAR, WHEN WE SPLIT THE DATA\n",
    "subdir = \"Aug2024-Jul2025\"\n",
    "\n",
    "import pandas as pd\n",
    "\n",
    "\n",
    "# Get the possible data venues\n",
    "venuekeysfile = \"venue-keys.csv\"\n",
    "dfVenueKeys = pd.read_csv(venuekeysfile)\n",
    "\n",
    "dfDash = pd.DataFrame(columns = [\"Venue\",\"Starts\",\"Ends\",\"Capture days\",\"Last Voltage\",\"Max awake (s)\",\"Min awake (s)\",\"Median awake(s)\"])\n",
    "\n",
    "for index, venueSensorDetails in dfVenueKeys.iterrows():\n",
    "    try: \n",
    "        # sensorMacOfSelection = venueSensorDetails['sensor_MAC']\n",
    "        venueOfSelection = str(venueSensorDetails['venue_id'])\n",
    "        dfTempDataSet = pd.read_csv('deviceData/'+ subdir + \"/venue_\" + venueOfSelection  + '.csv' )\n",
    "        dfTempDataSet['timestamp'] = pd.to_datetime(dfTempDataSet['timestamp'])\n",
    "        dfTempDataSet['venue_id'] = venueSensorDetails['venue_id']\n",
    "        dfTempDataSet = dfTempDataSet[(dfTempDataSet.temperature <= 100)]\n",
    "        dfTempDataSet = dfTempDataSet[(dfTempDataSet.temperature > -10)] # eliminate rogue data\n",
    "        #print(\"%s\\t%s\\t%s\\t%d\" %\n",
    "        #    (venueOfSelection, dfTempDataSet.timestamp.min().strftime('%Y-%m-%d %H:%M'), dfTempDataSet.timestamp.max().strftime('%Y-%m-%d %H:%M'), len(dfTempDataSet.timestamp)/288))\n",
    "        if (len(dfTempDataSet.timestamp)>0):\n",
    "            first_time = dfTempDataSet.timestamp.min().strftime('%Y-%m-%d %H:%M')\n",
    "            last_time = dfTempDataSet.timestamp.max().strftime('%Y-%m-%d %H:%M')\n",
    "            days_captured = round(len(dfTempDataSet.timestamp.dropna())/288)\n",
    "        else:\n",
    "            first_time = \"None\"\n",
    "            last_time = \"None\"\n",
    "            days_captured = \"None\"\n",
    "        try:\n",
    "            volts = dfTempDataSet.voltage.dropna()\n",
    "            last_voltage = volts.loc[volts != 1].iloc[-1]/10 \n",
    "            # he's changed the voltage representation in later models.  Assume if < 1 it really is V, not V*10.\n",
    "            if (last_voltage < 1):\n",
    "                last_voltage = last_voltage * 10\n",
    "\n",
    "        except: \n",
    "            last_voltage = \"None\" # there aren't any good voltage readings\n",
    "        try:\n",
    "            awake_time = dfTempDataSet.awake_time.dropna()\n",
    "            # we want the intervals between the awake_time readings because those are cumulative,\n",
    "            awake_interval = awake_time - awake_time.shift(1)\n",
    "            # it starts from zero every time it reboots so correct negative intervals to just be whatever\n",
    "            # the recorded time awake was.\n",
    "            awake_interval[awake_interval<0] = awake_time\n",
    "            print(type(awake_interval))\n",
    "            max_awake = int(awake_interval.max())\n",
    "            min_awake = int(awake_interval.min())\n",
    "            median_awake = int(awake_interval.median())\n",
    "        except: \n",
    "            max_awake = \"None\" # there aren't any good readings\n",
    "            min_awake = \"None\"\n",
    "            median_awake = \"None\"\n",
    "        dfDash.loc[len(dfDash)] = ([venueOfSelection, first_time, last_time, days_captured, last_voltage, max_awake,min_awake,median_awake])\n",
    "    except:\n",
    "        print(\"Unknown dashboard error.\")\n"
   ]
  },
  {
   "cell_type": "code",
   "execution_count": null,
   "metadata": {
    "tags": [
     "remove-input"
    ]
   },
   "outputs": [],
   "source": [
    "\n",
    "display(dfDash)\n"
   ]
  }
 ],
 "metadata": {
  "language_info": {
   "name": "python"
  },
  "orig_nbformat": 4
 },
 "nbformat": 4,
 "nbformat_minor": 2
}
