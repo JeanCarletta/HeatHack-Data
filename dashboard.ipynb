{
 "cells": [
  {
   "attachments": {},
   "cell_type": "markdown",
   "metadata": {},
   "source": [
    "# Dashboard"
   ]
  },
  {
   "cell_type": "code",
   "execution_count": null,
   "metadata": {
    "tags": [
     "remove-cell"
    ]
   },
   "outputs": [],
   "source": [
    "\n",
    "# Imports \n",
    "\n",
    "import pandas as pd\n",
    "\n",
    "\n",
    "# Get the possible data venues\n",
    "venuekeysfile = \"venue-keys.csv\"\n",
    "dfVenueKeys = pd.read_csv(venuekeysfile)\n",
    "\n",
    "dfDash = pd.DataFrame(columns = [\"Venue\",\"first_timestamp\",\"last_timestamp\",\"days_captured\",\"last_voltage\"])\n",
    "\n",
    "for index, venueSensorDetails in dfVenueKeys.iterrows():\n",
    "    try: \n",
    "        sensorMacOfSelection = venueSensorDetails['sensor_MAC']\n",
    "        venueOfSelection = str(venueSensorDetails['venue_id'])\n",
    "        dfTempDataSet = pd.read_csv('deviceData/'+ \"venue_\" + venueOfSelection + \"_with_device_\" + sensorMacOfSelection + '.csv' )\n",
    "        dfTempDataSet['timestamp'] = pd.to_datetime(dfTempDataSet['timestamp'])\n",
    "        dfTempDataSet['venue_id'] = venueSensorDetails['venue_id']\n",
    "        dfTempDataSet = dfTempDataSet[(dfTempDataSet.temperature <= 100)]\n",
    "        dfTempDataSet = dfTempDataSet[(dfTempDataSet.temperature > -10)] # eliminate rogue data\n",
    "        #print(\"%s\\t%s\\t%s\\t%d\" %\n",
    "        #    (venueOfSelection, dfTempDataSet.timestamp.min().strftime('%Y-%m-%d %H:%M'), dfTempDataSet.timestamp.max().strftime('%Y-%m-%d %H:%M'), len(dfTempDataSet.timestamp)/288))\n",
    "        if (len(dfTempDataSet.timestamp)>0):\n",
    "            first_time = dfTempDataSet.timestamp.min().strftime('%Y-%m-%d %H:%M')\n",
    "            last_time = dfTempDataSet.timestamp.max().strftime('%Y-%m-%d %H:%M')\n",
    "            days_captured = round(len(dfTempDataSet.timestamp.dropna())/288)\n",
    "        else:\n",
    "            first_time = \"None\"\n",
    "            last_time = \"None\"\n",
    "            days_captured = \"None\"\n",
    "        try:\n",
    "            volts = dfTempDataSet.voltage.dropna()\n",
    "            last_voltage = volts.loc[volts != 1].iloc[-1]/10 \n",
    "\n",
    "        except: \n",
    "            last_voltage = \"None\" # there aren't any good voltage readings\n",
    "        dfDash.loc[len(dfDash)] = ([venueOfSelection, first_time, last_time, days_captured, last_voltage])\n",
    "    except:\n",
    "        print(\"Unknown dashboard error.\")\n"
   ]
  },
  {
   "cell_type": "code",
   "execution_count": null,
   "metadata": {
    "tags": [
     "remove-input"
    ]
   },
   "outputs": [],
   "source": [
    "\n",
    "display(dfDash)"
   ]
  }
 ],
 "metadata": {
  "language_info": {
   "name": "python"
  },
  "orig_nbformat": 4
 },
 "nbformat": 4,
 "nbformat_minor": 2
}
