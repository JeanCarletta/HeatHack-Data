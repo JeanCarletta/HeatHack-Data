{
 "cells": [
  {
   "attachments": {},
   "cell_type": "markdown",
   "metadata": {},
   "source": [
    "# Dashboard"
   ]
  },
  {
   "cell_type": "code",
   "execution_count": null,
   "metadata": {
    "tags": [
     "hide-cell"
    ]
   },
   "outputs": [],
   "source": [
    "\n",
    "# Imports \n",
    "\n",
    "import pandas as pd\n",
    "\n",
    "\n",
    "# Get the possible data venues\n",
    "venuekeysfile = \"venue-keys.csv\"\n",
    "dfVenueKeys = pd.read_csv(venuekeysfile)\n",
    "\n",
    "dfDash = pd.DataFrame(columns = [\"Venue\",\"first_timestamp\",\"last_timestamp\",\"days_captured\"])\n",
    "\n",
    "\n",
    "#print(\"%s\\t%s\\t%s\\t%s\" % (\"Venue\",\"first timestamp\",\"last timestamp\",\"days captured\"))\n",
    "\n",
    "\n",
    "for index, venueSensorDetails in dfVenueKeys.iterrows():\n",
    "    \n",
    "    sensorMacOfSelection = venueSensorDetails['sensor_MAC']\n",
    "    venueOfSelection = str(venueSensorDetails['venue_id'])\n",
    "    dfTempDataSet = pd.read_csv('deviceData/'+ \"venue_\" + venueOfSelection + \"_with_device_\" + sensorMacOfSelection + '.csv' )\n",
    "    dfTempDataSet['timestamp'] = pd.to_datetime(dfTempDataSet['timestamp'])\n",
    "    dfTempDataSet['venue_id'] = venueSensorDetails['venue_id']\n",
    "    dfTempDataSet = dfTempDataSet[(dfTempDataSet.temperature <= 100)]\n",
    "    dfTempDataSet = dfTempDataSet[(dfTempDataSet.temperature > -10)] # eliminate rogue data\n",
    "    #print(\"%s\\t%s\\t%s\\t%d\" %\n",
    "    #    (venueOfSelection, dfTempDataSet.timestamp.min().strftime('%Y-%m-%d %H:%M'), dfTempDataSet.timestamp.max().strftime('%Y-%m-%d %H:%M'), len(dfTempDataSet.timestamp)/288))\n",
    "    dfDash.loc[len(dfDash)] = ([venueOfSelection, dfTempDataSet.timestamp.min().strftime('%Y-%m-%d %H:%M'), dfTempDataSet.timestamp.max().strftime('%Y-%m-%d %H:%M'), round(len(dfTempDataSet.timestamp)/288)])\n",
    "\n"
   ]
  },
  {
   "cell_type": "code",
   "execution_count": null,
   "metadata": {},
   "outputs": [],
   "source": [
    "\n",
    "display(dfDash)"
   ]
  }
 ],
 "metadata": {
  "language_info": {
   "name": "python"
  },
  "orig_nbformat": 4
 },
 "nbformat": 4,
 "nbformat_minor": 2
}
