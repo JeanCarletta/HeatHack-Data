{
 "cells": [
  {
   "cell_type": "markdown",
   "metadata": {},
   "source": [
    "# ThingSpeak Graphs Plots\n",
    "\n",
    ":TODO: hide code by default.  This takes editing some json outside visual studio code, if I remember correctly.\n",
    "\n",
    "First, select your data by venue"
   ]
  },
  {
   "cell_type": "code",
   "execution_count": 1,
   "metadata": {},
   "outputs": [
    {
     "name": "stdout",
     "output_type": "stream",
     "text": [
      "3\n",
      "Loading data for venue:  3\n",
      "Loading data for venue:  7\n",
      "Loading data for venue:  11\n",
      "Check\n"
     ]
    },
    {
     "data": {
      "text/html": [
       "<div>\n",
       "<style scoped>\n",
       "    .dataframe tbody tr th:only-of-type {\n",
       "        vertical-align: middle;\n",
       "    }\n",
       "\n",
       "    .dataframe tbody tr th {\n",
       "        vertical-align: top;\n",
       "    }\n",
       "\n",
       "    .dataframe thead th {\n",
       "        text-align: right;\n",
       "    }\n",
       "</style>\n",
       "<table border=\"1\" class=\"dataframe\">\n",
       "  <thead>\n",
       "    <tr style=\"text-align: right;\">\n",
       "      <th></th>\n",
       "      <th>timestamp</th>\n",
       "      <th>entry_id</th>\n",
       "      <th>temperature</th>\n",
       "      <th>rh</th>\n",
       "      <th>voltage</th>\n",
       "      <th>venue_id</th>\n",
       "    </tr>\n",
       "  </thead>\n",
       "  <tbody>\n",
       "    <tr>\n",
       "      <th>1951</th>\n",
       "      <td>2022-08-26 11:50:08+00:00</td>\n",
       "      <td>4718</td>\n",
       "      <td>21.0</td>\n",
       "      <td>54.0</td>\n",
       "      <td>NaN</td>\n",
       "      <td>3</td>\n",
       "    </tr>\n",
       "    <tr>\n",
       "      <th>5493</th>\n",
       "      <td>2022-09-04 05:06:39+00:00</td>\n",
       "      <td>8260</td>\n",
       "      <td>21.0</td>\n",
       "      <td>62.0</td>\n",
       "      <td>NaN</td>\n",
       "      <td>3</td>\n",
       "    </tr>\n",
       "    <tr>\n",
       "      <th>2422</th>\n",
       "      <td>2022-08-27 08:33:06+00:00</td>\n",
       "      <td>5189</td>\n",
       "      <td>21.0</td>\n",
       "      <td>55.0</td>\n",
       "      <td>NaN</td>\n",
       "      <td>3</td>\n",
       "    </tr>\n",
       "    <tr>\n",
       "      <th>9578</th>\n",
       "      <td>2022-09-10 07:21:17+00:00</td>\n",
       "      <td>1478</td>\n",
       "      <td>20.0</td>\n",
       "      <td>55.0</td>\n",
       "      <td>NaN</td>\n",
       "      <td>11</td>\n",
       "    </tr>\n",
       "    <tr>\n",
       "      <th>8463</th>\n",
       "      <td>2022-09-06 16:50:42+00:00</td>\n",
       "      <td>363</td>\n",
       "      <td>22.0</td>\n",
       "      <td>62.0</td>\n",
       "      <td>NaN</td>\n",
       "      <td>11</td>\n",
       "    </tr>\n",
       "    <tr>\n",
       "      <th>44</th>\n",
       "      <td>2022-08-20 03:46:22+00:00</td>\n",
       "      <td>2811</td>\n",
       "      <td>21.0</td>\n",
       "      <td>45.0</td>\n",
       "      <td>NaN</td>\n",
       "      <td>3</td>\n",
       "    </tr>\n",
       "  </tbody>\n",
       "</table>\n",
       "</div>"
      ],
      "text/plain": [
       "                     timestamp entry_id  temperature    rh  voltage venue_id\n",
       "1951 2022-08-26 11:50:08+00:00     4718         21.0  54.0      NaN        3\n",
       "5493 2022-09-04 05:06:39+00:00     8260         21.0  62.0      NaN        3\n",
       "2422 2022-08-27 08:33:06+00:00     5189         21.0  55.0      NaN        3\n",
       "9578 2022-09-10 07:21:17+00:00     1478         20.0  55.0      NaN       11\n",
       "8463 2022-09-06 16:50:42+00:00      363         22.0  62.0      NaN       11\n",
       "44   2022-08-20 03:46:22+00:00     2811         21.0  45.0      NaN        3"
      ]
     },
     "execution_count": 1,
     "metadata": {},
     "output_type": "execute_result"
    }
   ],
   "source": [
    "# Imports \n",
    "import ipywidgets as widgets\n",
    "import pandas as pd\n",
    "import plotly.express as px\n",
    "import plotly.graph_objects as go   \n",
    "from IPython.display import display\n",
    "\n",
    "# Get the possible data venues\n",
    "venuekeysfile = \"venue-keys.csv\"\n",
    "dfVenueKeys = pd.read_csv(venuekeysfile)\n",
    "dfVenueKeys = dfVenueKeys.dropna(subset=['channel_id'])\n",
    "\n",
    "\n",
    "\n",
    "\n",
    "#give user option to select their venue\n",
    "venueDropdown = widgets.Dropdown(\n",
    "    options=dfVenueKeys['venue_id'],\n",
    "    value=dfVenueKeys['venue_id'][0],\n",
    "    description='Venue ID:',\n",
    "    disabled=False,\n",
    ")\n",
    "\n",
    "\n",
    "container = widgets.HBox(children=[venueDropdown])\n",
    "\n",
    "print(venueDropdown.value)\n",
    "\n",
    "#Retrieve the venue and begin graphing\n",
    "dfCollatedDataSet = pd.DataFrame(columns=['timestamp', 'entry_id', 'temperature', 'rh', 'voltage', 'venue_id'])\n",
    "for index, venueSensorDetails in dfVenueKeys.iterrows():\n",
    "    \n",
    "    sensorMacOfSelection = venueSensorDetails['sensor_MAC']\n",
    "    dfTempDataSet = pd.read_csv('deviceData/'+ sensorMacOfSelection + '.csv' )\n",
    "    dfTempDataSet['timestamp'] = pd.to_datetime(dfTempDataSet['timestamp'])\n",
    "    dfTempDataSet['venue_id'] = venueSensorDetails['venue_id']\n",
    "\n",
    "    dfCollatedDataSet = dfCollatedDataSet.append(dfTempDataSet, ignore_index=True)\n",
    "    dfCollatedDataSet['timestamp'] = pd.to_datetime(dfCollatedDataSet['timestamp'])\n",
    "    print('Loading data for venue: ', venueSensorDetails['venue_id']) \n",
    "\n",
    "\n",
    "print('Check')\n",
    "dfCollatedDataSet.sample(6)\n",
    "\n",
    "#dfCollatedDataSet.dtypes"
   ]
  },
  {
   "cell_type": "code",
   "execution_count": 2,
   "metadata": {},
   "outputs": [
    {
     "name": "stdout",
     "output_type": "stream",
     "text": [
      "Job Done\n"
     ]
    }
   ],
   "source": [
    "# Assign an empty figure widget with two traces\n",
    "trace0 = go.Scatter(x=dfCollatedDataSet['temperature'], y = dfCollatedDataSet['timestamp'], mode='lines', hoverinfo='all', name='temperature')\n",
    "#trace1 = go.Scatter(x=dfCollatedDataSet['rh'], mode='lines', hoverinfo='all', name='relative humidity')\n",
    "\n",
    "\n",
    "importantValues = []\n",
    "importantValues.append({'type': 'line',\n",
    "                   'xref': 'x',\n",
    "                   'yref': 'y',\n",
    "                   'x0': dfCollatedDataSet['timestamp'].min(),\n",
    "                   'y0': 16,\n",
    "                   'x1': dfCollatedDataSet['timestamp'].max(),\n",
    "                   'y1': 16,\n",
    "                   'line_color': 'red',\n",
    "                   'line_dash': 'dash',\n",
    "                   'layer':'below'})\n",
    "\n",
    "\n",
    "annotationsToDraw = []\n",
    "annotationsToDraw.append({'text': 'Legal indoor temperature for children',\n",
    "                            'x': dfCollatedDataSet['timestamp'].max(),\n",
    "                            'y': 16})\n",
    "\n",
    "g = go.FigureWidget(data=[trace0],\n",
    "                    layout = go.Layout(\n",
    "                        title=dict(\n",
    "                            text='Temperature for Venue: ' + str(venueDropdown.value)\n",
    "                        ),   \n",
    "                        shapes=importantValues,\n",
    "                        annotations=annotationsToDraw\n",
    "                        \n",
    "                       #barmode='lines'                 \n",
    "                    ))\n",
    "\n",
    "\n",
    "print(\"Job Done\")\n"
   ]
  },
  {
   "cell_type": "code",
   "execution_count": null,
   "metadata": {},
   "outputs": [],
   "source": [
    "filter_list = [i for i in dfCollatedDataSet['venue_id'] == venueDropdown.value]\n",
    "temp_df = dfCollatedDataSet[filter_list]\n",
    "y1 = temp_df['temperature']\n",
    "x1 = temp_df['timestamp']\n",
    "#y2 = temp_df['rh']\n",
    "#x2 = temp_df['dep_delay']\n",
    "with g.batch_update():\n",
    "    g.data[0].y = y1\n",
    "    g.data[0].x = x1\n",
    "    #g.data[1].y = y2\n",
    "    #g.layout.barmode = 'overlay'\n",
    "    g.layout.xaxis.title = 'Time'\n",
    "    g.layout.yaxis.title = 'Temperature'\n",
    "    g.layout.title = \"Temperature for Venue = \" + str(venueDropdown.value)"
   ]
  },
  {
   "cell_type": "code",
   "execution_count": 3,
   "metadata": {},
   "outputs": [],
   "source": [
    "def response(change):\n",
    "        filter_list = [i for i in dfCollatedDataSet['venue_id'] == venueDropdown.value]\n",
    "        temp_df = dfCollatedDataSet[filter_list]\n",
    "        y1 = temp_df['temperature']\n",
    "        x1 = temp_df['timestamp']\n",
    "        #y2 = temp_df['rh']\n",
    "        #x2 = temp_df['dep_delay']\n",
    "        with g.batch_update():\n",
    "            g.data[0].y = y1\n",
    "            g.data[0].x = x1\n",
    "            #g.data[1].y = y2\n",
    "            #g.layout.barmode = 'overlay'\n",
    "            g.layout.xaxis.title = 'Time'\n",
    "            g.layout.yaxis.title = 'Value'\n",
    "            g.layout.title = dict(text= 'Temperature for Venue = ' + str(venueDropdown.value))\n",
    "            # g.add_trace(go.Scatter(x=temp_df['timestamp'], y = 16))\n",
    "            \n",
    "\n",
    "# g.add_hline(y=16, \n",
    "#             x0=dfCollatedDataSet['timestamp'].min(),\n",
    "#             x1=dfCollatedDataSet['timestamp'].max(),\n",
    "#             line_color=\"red\")\n",
    "venueDropdown.observe(response, names=\"value\")\n"
   ]
  },
  {
   "cell_type": "code",
   "execution_count": 5,
   "metadata": {},
   "outputs": [
    {
     "ename": "NameError",
     "evalue": "name 'display_html' is not defined",
     "output_type": "error",
     "traceback": [
      "\u001b[1;31m---------------------------------------------------------------------------\u001b[0m",
      "\u001b[1;31mNameError\u001b[0m                                 Traceback (most recent call last)",
      "\u001b[1;32m~\\AppData\\Local\\Temp/ipykernel_3612/2742346880.py\u001b[0m in \u001b[0;36m<module>\u001b[1;34m\u001b[0m\n\u001b[0;32m      1\u001b[0m \u001b[0mgraphA\u001b[0m \u001b[1;33m=\u001b[0m \u001b[0mwidgets\u001b[0m\u001b[1;33m.\u001b[0m\u001b[0mVBox\u001b[0m\u001b[1;33m(\u001b[0m\u001b[1;33m[\u001b[0m\u001b[0mcontainer\u001b[0m\u001b[1;33m,\u001b[0m \u001b[0mg\u001b[0m\u001b[1;33m]\u001b[0m\u001b[1;33m)\u001b[0m\u001b[1;33m\u001b[0m\u001b[1;33m\u001b[0m\u001b[0m\n\u001b[1;32m----> 2\u001b[1;33m \u001b[0mdisplay_html\u001b[0m\u001b[1;33m(\u001b[0m\u001b[0mgraphA\u001b[0m\u001b[1;33m)\u001b[0m\u001b[1;33m\u001b[0m\u001b[1;33m\u001b[0m\u001b[0m\n\u001b[0m",
      "\u001b[1;31mNameError\u001b[0m: name 'display_html' is not defined"
     ]
    }
   ],
   "source": [
    "graphA = widgets.VBox([container, g])\n",
    "display(graphA)"
   ]
  },
  {
   "cell_type": "code",
   "execution_count": null,
   "metadata": {},
   "outputs": [],
   "source": [
    "import plotly.express as px\n",
    "import plotly.graph_objects as go\n",
    "\n",
    "\n",
    "# filename = \"thingspeak-feed\"\n",
    "# dfthingspeak = pd.read_csv(filename + \".csv\")\n",
    "# dfthingspeak[\"timestamp\"] = pd.to_datetime(dfthingspeak['created_at'])\n",
    "\n",
    "fig = px.line(dfCollatedDataSet, x='timestamp', y='temperature', range_x=['','2022-09-09'], title=\"Temperature in a worship space: \" + str(venueDropdown.value))\n",
    "fig = px.line(dfCollatedDataSet, x= 'timestamp', y=dfCollatedDataSet.columns[2:4], title=\"Temperature in a worship space: \" + str(venueDropdown.value))\n",
    "fig.add_hline(y=16)\n",
    "\n",
    "fig.show()"
   ]
  },
  {
   "cell_type": "markdown",
   "metadata": {},
   "source": [
    "## Towards a calibration plot\n",
    "\n",
    "Simple demonstration of data from two data frames on the same plot - with the wrinkle that one frame is from a lascar logger.  We will be roughly exploring the calibration of the RH sensors by running batches of 10 DHT22s alongside a few Lascars over an RH range and showing groups the results, so they can judge how much to trust the data. \n",
    "\n",
    "Lascars aren't configurable for what they export.  I've removed a Unicode character this couldn't deal with (degree symbol) and used Excel to change the data format.  These things should be fixable in code, but we won't use Lascars enough for that to be a priority task.  Any processing we need to do on Thingspeak feeds is a priority, though.\n",
    "\n",
    "I don't really understand the interaction between px.line and add_scatter - the difference can get in the way.  This way of using plotly and dropping down to graph_objects might be misguided."
   ]
  },
  {
   "cell_type": "code",
   "execution_count": null,
   "metadata": {},
   "outputs": [],
   "source": [
    "# Using plotly.express\n",
    "import plotly.express as px\n",
    "import plotly.graph_objects as go\n",
    "\n",
    "import pandas as pd\n",
    "dfthingspeak = pd.read_csv(\"thingspeak-feed.csv\")\n",
    "dfthingspeak[\"timestamp\"] = pd.to_datetime(dfthingspeak['created_at'])\n",
    "\n",
    "dflascar = pd.read_csv(\"lascar-data.csv\")\n",
    "dflascar['timestamp'] = pd.to_datetime(dflascar['Time'])\n",
    "\n",
    "# fig = px.line(dfthingspeak, x='timestamp', y='field2', range_x=['2021-11-21','2022-04-07'],range_y=[35,85], title=\"Comparing RH as measured by different devices\")\n",
    "fig = px.line(dfthingspeak, x='timestamp', range_x=['2021-11-21','2022-04-07'],range_y=[35,85], title=\"Comparing RH in a worship space as measured by different devices side by side\")\n",
    "fig.add_scatter(x = dfthingspeak['timestamp'], y = dfthingspeak['field2'], name = 'thingspeak')\n",
    "fig.add_scatter(x = dflascar['timestamp'], y = dflascar['RH'], name = 'lascar')\n",
    "\n",
    "\n",
    "fig.show()"
   ]
  },
  {
   "cell_type": "markdown",
   "metadata": {},
   "source": [
    "## Showing when space is in use.\n",
    "\n",
    "Vertical lines are useful for the start and end time of events.  It would be better rendered as a separate background shading when the space is occupied. \n",
    "\n",
    "Perhaps we can set up a worksheet where they put in their usual weekly schedule with a descriptive short string to render these.   We could use diary export, but if their diary doesn't have a busy/free option, there's too much risk of personal data being in there, and there could be too many diary systems to deal with.  \n",
    "\n",
    ":TODO: It would be helpful if there were a dropdown control for choosing to view a day or a week, and then which specific day or week.   That sort of control could be used to choose the group and venue, as well, so we're only producing one master book for everyone.  "
   ]
  },
  {
   "cell_type": "code",
   "execution_count": null,
   "metadata": {},
   "outputs": [],
   "source": [
    "# Using plotly.express\n",
    "import plotly.express as px\n",
    "\n",
    "import pandas as pd\n",
    "df = pd.read_csv(\"thingspeak-feed.csv\")\n",
    "df[\"timestamp\"] = pd.to_datetime(df['created_at'])\n",
    "\n",
    "\n",
    "#animation_frame and animation_group should make it possible to add a range slider??\n",
    "\n",
    "fig = px.line(df, x='timestamp', y='field1',  range_x=['2021-12-24','2021-12-26'],range_y=[0,20], title=\"Midnight mass and Christmas morning services in a worship space.\")\n",
    "fig.add_vline(x='2021-12-24 23:00')\n",
    "fig.add_vline(x='2021-12-25 00:00')\n",
    "fig.add_vline(x='2021-12-25 10:00')\n",
    "fig.add_vline(x='2021-12-25 11:30')\n",
    "\n",
    "fig.show()"
   ]
  }
 ],
 "metadata": {
  "kernelspec": {
   "display_name": "Python 3.9.6 64-bit",
   "language": "python",
   "name": "python3"
  },
  "language_info": {
   "codemirror_mode": {
    "name": "ipython",
    "version": 3
   },
   "file_extension": ".py",
   "mimetype": "text/x-python",
   "name": "python",
   "nbconvert_exporter": "python",
   "pygments_lexer": "ipython3",
   "version": "3.9.6"
  },
  "orig_nbformat": 4,
  "vscode": {
   "interpreter": {
    "hash": "a2e6baf65b4912df534866df4a24f335b0ddd2a79686966292e6a89b41752c6e"
   }
  }
 },
 "nbformat": 4,
 "nbformat_minor": 2
}
